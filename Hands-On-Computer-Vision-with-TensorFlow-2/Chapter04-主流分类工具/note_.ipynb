{
 "cells": [
  {
   "cell_type": "code",
   "execution_count": null,
   "metadata": {},
   "outputs": [],
   "source": [
    "import tensorflow as tf\n",
    "import os\n",
    "# Choosing which GPU txhis notebook can access\n",
    "# (useful when running multiple experiments in parallel, on different GPUs):\n",
    "os.environ[\"CUDA_VISIBLE_DEVICES\"]= \"2\" "
   ]
  },
  {
   "cell_type": "markdown",
   "metadata": {},
   "source": [
    "## 准备数据\n",
    "\n",
    "_CIFAR-10_ 和 _CIFAR-100_ 数据集是著名的分类数据集。\n",
    "\n",
    "第一个版本包含来自10个不同类的 60000张，32 x 32 图像。\n",
    "\n",
    "第二个版本包含来自100个不同类的60000 32x  32 图像。\n",
    "\n",
    "这么我么将使用 _CIFAR-100_，构建训练模型\n",
    "\n",
    "\n",
    "\n",
    "***注意:*** 虽然这个分类任务比我们之前的 _MNIST_ 实验更复杂,\n",
    "\n",
    "其复杂性并不等同于 _ImageNet_  的挑战，例如，\n",
    "\n",
    "在这一章中提到，我们选择了 _CIFAR-100_，因为这个数据集很容易获取，并且足够轻，读者能够重现我们的实验。"
   ]
  }
 ],
 "metadata": {
  "interpreter": {
   "hash": "83e29bc4780094a1020ea993be7b4ac962c5dfd5f12c392e72ec0e6eface9c7b"
  },
  "kernelspec": {
   "display_name": "Python 3.6.13 ('learn-tensorflow')",
   "language": "python",
   "name": "python3"
  },
  "language_info": {
   "name": "python",
   "version": "3.6.13"
  },
  "orig_nbformat": 4
 },
 "nbformat": 4,
 "nbformat_minor": 2
}
