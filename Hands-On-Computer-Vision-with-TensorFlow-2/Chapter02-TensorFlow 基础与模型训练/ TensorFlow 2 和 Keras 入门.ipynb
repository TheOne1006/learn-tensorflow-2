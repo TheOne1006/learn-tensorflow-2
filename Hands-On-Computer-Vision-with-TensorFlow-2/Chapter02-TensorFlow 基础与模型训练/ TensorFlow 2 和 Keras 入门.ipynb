{
 "cells": [
  {
   "cell_type": "markdown",
   "metadata": {},
   "source": [
    "# Tensorflow 简介\n",
    "\n",
    "...\n",
    "\n",
    "## 主要架构\n",
    "\n",
    "...\n",
    "\n",
    "\n"
   ]
  },
  {
   "cell_type": "code",
   "execution_count": 1,
   "metadata": {},
   "outputs": [],
   "source": [
    "# 导入库并使用别名\n",
    "import tensorflow as tf\n"
   ]
  },
  {
   "cell_type": "code",
   "execution_count": 2,
   "metadata": {},
   "outputs": [
    {
     "name": "stdout",
     "output_type": "stream",
     "text": [
      "Downloading data from https://storage.googleapis.com/tensorflow/tf-keras-datasets/mnist.npz\n",
      "11493376/11490434 [==============================] - 2s 0us/step\n",
      "11501568/11490434 [==============================] - 2s 0us/step\n"
     ]
    }
   ],
   "source": [
    "# 准备数据\n",
    "\n",
    "num_classes = 10\n",
    "img_rows, img_cols = 28, 28\n",
    "num_channels = 1\n",
    "input_shape = (img_rows, img_cols, num_channels)\n",
    "\n",
    "# 下载一些经典数据\n",
    "(x_train, y_train), (x_test, y_test) = tf.keras.datasets.mnist.load_data()\n",
    "\n",
    "# 进行归一化 [0, 1]直接\n",
    "x_train, x_test = x_train / 255.0, x_test / 255.0\n"
   ]
  },
  {
   "cell_type": "code",
   "execution_count": 11,
   "metadata": {},
   "outputs": [
    {
     "name": "stdout",
     "output_type": "stream",
     "text": [
      "(60000, 28, 28)\n",
      "[0. 0. 0. 0. 0. 0. 0. 0. 0. 0. 0. 0. 0. 0. 0. 0. 0. 0. 0. 0. 0. 0. 0. 0.\n",
      " 0. 0. 0. 0.]\n"
     ]
    }
   ],
   "source": [
    "# 6w 张 28 x 28 图像\n",
    "print(x_train.shape)\n"
   ]
  },
  {
   "cell_type": "code",
   "execution_count": 12,
   "metadata": {},
   "outputs": [],
   "source": [
    "# 构建模型\n",
    "\n",
    "# 加载序列模型\n",
    "model = tf.keras.models.Sequential()\n",
    "\n",
    "# 添加展平层\n",
    "model.add(tf.keras.layers.Flatten())\n",
    "\n",
    "# 添加一个128的全连接层\n",
    "model.add(tf.keras.layers.Dense(128, activation='relu'))\n",
    "# 在添加为 10 的全连接层，使用 softmax 作为激活函数\n",
    "# softmax 返回总和为1的概率值\n",
    "# num_classes 对应输出结果的数量\n",
    "model.add(tf.keras.layers.Dense(num_classes, activation='softmax'))\n"
   ]
  },
  {
   "cell_type": "code",
   "execution_count": 15,
   "metadata": {},
   "outputs": [
    {
     "name": "stdout",
     "output_type": "stream",
     "text": [
      "Epoch 1/25\n",
      "1875/1875 [==============================] - 4s 2ms/step - loss: 0.6455 - accuracy: 0.8375 - val_loss: 0.3570 - val_accuracy: 0.9028\n",
      "Epoch 2/25\n",
      "1875/1875 [==============================] - 3s 2ms/step - loss: 0.3352 - accuracy: 0.9071 - val_loss: 0.2912 - val_accuracy: 0.9180\n",
      "Epoch 3/25\n",
      "1875/1875 [==============================] - 3s 1ms/step - loss: 0.2863 - accuracy: 0.9200 - val_loss: 0.2589 - val_accuracy: 0.9260\n",
      "Epoch 4/25\n",
      "1875/1875 [==============================] - 3s 1ms/step - loss: 0.2571 - accuracy: 0.9280 - val_loss: 0.2395 - val_accuracy: 0.9327\n",
      "Epoch 5/25\n",
      "1875/1875 [==============================] - 2s 1ms/step - loss: 0.2352 - accuracy: 0.9339 - val_loss: 0.2203 - val_accuracy: 0.9354\n",
      "Epoch 6/25\n",
      "1875/1875 [==============================] - 3s 2ms/step - loss: 0.2172 - accuracy: 0.9387 - val_loss: 0.2032 - val_accuracy: 0.9398\n",
      "Epoch 7/25\n",
      "1875/1875 [==============================] - 2s 1ms/step - loss: 0.2021 - accuracy: 0.9431 - val_loss: 0.1895 - val_accuracy: 0.9438\n",
      "Epoch 8/25\n",
      "1875/1875 [==============================] - 3s 2ms/step - loss: 0.1892 - accuracy: 0.9466 - val_loss: 0.1807 - val_accuracy: 0.9482\n",
      "Epoch 9/25\n",
      "1875/1875 [==============================] - 3s 1ms/step - loss: 0.1776 - accuracy: 0.9503 - val_loss: 0.1700 - val_accuracy: 0.9503\n",
      "Epoch 10/25\n",
      "1875/1875 [==============================] - 3s 2ms/step - loss: 0.1677 - accuracy: 0.9527 - val_loss: 0.1653 - val_accuracy: 0.9508\n",
      "Epoch 11/25\n",
      "1875/1875 [==============================] - 3s 2ms/step - loss: 0.1587 - accuracy: 0.9556 - val_loss: 0.1556 - val_accuracy: 0.9544\n",
      "Epoch 12/25\n",
      "1875/1875 [==============================] - 3s 2ms/step - loss: 0.1505 - accuracy: 0.9581 - val_loss: 0.1482 - val_accuracy: 0.9564\n",
      "Epoch 13/25\n",
      "1875/1875 [==============================] - 3s 2ms/step - loss: 0.1434 - accuracy: 0.9599 - val_loss: 0.1429 - val_accuracy: 0.9581\n",
      "Epoch 14/25\n",
      "1875/1875 [==============================] - 3s 2ms/step - loss: 0.1367 - accuracy: 0.9615 - val_loss: 0.1360 - val_accuracy: 0.9604\n",
      "Epoch 15/25\n",
      "1875/1875 [==============================] - 3s 2ms/step - loss: 0.1306 - accuracy: 0.9635 - val_loss: 0.1313 - val_accuracy: 0.9620\n",
      "Epoch 16/25\n",
      "1875/1875 [==============================] - 2s 1ms/step - loss: 0.1248 - accuracy: 0.9655 - val_loss: 0.1274 - val_accuracy: 0.9627\n",
      "Epoch 17/25\n",
      "1875/1875 [==============================] - 3s 1ms/step - loss: 0.1197 - accuracy: 0.9669 - val_loss: 0.1224 - val_accuracy: 0.9643\n",
      "Epoch 18/25\n",
      "1875/1875 [==============================] - 3s 2ms/step - loss: 0.1148 - accuracy: 0.9680 - val_loss: 0.1192 - val_accuracy: 0.9656\n",
      "Epoch 19/25\n",
      "1875/1875 [==============================] - 3s 1ms/step - loss: 0.1104 - accuracy: 0.9694 - val_loss: 0.1140 - val_accuracy: 0.9672\n",
      "Epoch 20/25\n",
      "1875/1875 [==============================] - 3s 2ms/step - loss: 0.1062 - accuracy: 0.9709 - val_loss: 0.1128 - val_accuracy: 0.9671\n",
      "Epoch 21/25\n",
      "1875/1875 [==============================] - 3s 1ms/step - loss: 0.1026 - accuracy: 0.9717 - val_loss: 0.1116 - val_accuracy: 0.9675\n",
      "Epoch 22/25\n",
      "1875/1875 [==============================] - 3s 2ms/step - loss: 0.0988 - accuracy: 0.9730 - val_loss: 0.1072 - val_accuracy: 0.9684\n",
      "Epoch 23/25\n",
      "1875/1875 [==============================] - 2s 1ms/step - loss: 0.0956 - accuracy: 0.9735 - val_loss: 0.1040 - val_accuracy: 0.9691\n",
      "Epoch 24/25\n",
      "1875/1875 [==============================] - 3s 1ms/step - loss: 0.0924 - accuracy: 0.9744 - val_loss: 0.1023 - val_accuracy: 0.9694\n",
      "Epoch 25/25\n",
      "1875/1875 [==============================] - 3s 2ms/step - loss: 0.0894 - accuracy: 0.9756 - val_loss: 0.1007 - val_accuracy: 0.9704\n",
      "Model: \"sequential\"\n",
      "_________________________________________________________________\n",
      "Layer (type)                 Output Shape              Param #   \n",
      "=================================================================\n",
      "flatten (Flatten)            (None, 784)               0         \n",
      "_________________________________________________________________\n",
      "dense (Dense)                (None, 128)               100480    \n",
      "_________________________________________________________________\n",
      "dense_1 (Dense)              (None, 10)                1290      \n",
      "=================================================================\n",
      "Total params: 101,770\n",
      "Trainable params: 101,770\n",
      "Non-trainable params: 0\n",
      "_________________________________________________________________\n"
     ]
    }
   ],
   "source": [
    "# 模型训练\n",
    "\n",
    "\n",
    "# optimizer 优化器，sgd\n",
    "model.compile(optimizer='sgd',\n",
    "              loss='sparse_categorical_crossentropy',\n",
    "              metrics=['accuracy'])\n",
    "callbacks = [tf.keras.callbacks.TensorBoard('./keras')]\n",
    "model.fit(x_train, y_train, epochs=25, verbose=1,\n",
    "          validation_data=(x_test, y_test), callbacks=callbacks)"
   ]
  },
  {
   "cell_type": "code",
   "execution_count": 16,
   "metadata": {},
   "outputs": [
    {
     "name": "stdout",
     "output_type": "stream",
     "text": [
      "Model: \"sequential\"\n",
      "_________________________________________________________________\n",
      "Layer (type)                 Output Shape              Param #   \n",
      "=================================================================\n",
      "flatten (Flatten)            (None, 784)               0         \n",
      "_________________________________________________________________\n",
      "dense (Dense)                (None, 128)               100480    \n",
      "_________________________________________________________________\n",
      "dense_1 (Dense)              (None, 10)                1290      \n",
      "=================================================================\n",
      "Total params: 101,770\n",
      "Trainable params: 101,770\n",
      "Non-trainable params: 0\n",
      "_________________________________________________________________\n"
     ]
    }
   ],
   "source": [
    "# 查看模型信息\n",
    "\n",
    "model.summary()\n"
   ]
  }
 ],
 "metadata": {
  "interpreter": {
   "hash": "83e29bc4780094a1020ea993be7b4ac962c5dfd5f12c392e72ec0e6eface9c7b"
  },
  "kernelspec": {
   "display_name": "Python 3.6.13 64-bit ('learn-tensorflow': conda)",
   "language": "python",
   "name": "python3"
  },
  "language_info": {
   "codemirror_mode": {
    "name": "ipython",
    "version": 3
   },
   "file_extension": ".py",
   "mimetype": "text/x-python",
   "name": "python",
   "nbconvert_exporter": "python",
   "pygments_lexer": "ipython3",
   "version": "3.6.13"
  },
  "orig_nbformat": 4
 },
 "nbformat": 4,
 "nbformat_minor": 2
}