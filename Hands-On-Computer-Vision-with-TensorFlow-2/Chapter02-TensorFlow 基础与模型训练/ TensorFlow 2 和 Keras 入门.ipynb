{
 "cells": [
  {
   "cell_type": "markdown",
   "metadata": {},
   "source": [
    "# Tensorflow 简介\n",
    "\n",
    "...\n",
    "\n",
    "## 主要架构\n",
    "\n",
    "...\n",
    "\n",
    "\n"
   ]
  },
  {
   "cell_type": "code",
   "execution_count": 2,
   "metadata": {},
   "outputs": [],
   "source": [
    "# 导入库并使用别名\n",
    "import tensorflow as tf\n"
   ]
  },
  {
   "cell_type": "code",
   "execution_count": 3,
   "metadata": {},
   "outputs": [],
   "source": [
    "# 准备数据\n",
    "\n",
    "num_classes = 10\n",
    "img_rows, img_cols = 28, 28\n",
    "num_channels = 1\n",
    "input_shape = (img_rows, img_cols, num_channels)\n",
    "\n",
    "# 下载一些经典数据\n",
    "(x_train, y_train), (x_test, y_test) = tf.keras.datasets.mnist.load_data()\n",
    "\n",
    "# 进行归一化 [0, 1]直接\n",
    "x_train, x_test = x_train / 255.0, x_test / 255.0\n"
   ]
  },
  {
   "cell_type": "code",
   "execution_count": 4,
   "metadata": {},
   "outputs": [
    {
     "name": "stdout",
     "output_type": "stream",
     "text": [
      "(60000, 28, 28)\n"
     ]
    }
   ],
   "source": [
    "# 6w 张 28 x 28 图像\n",
    "print(x_train.shape)\n"
   ]
  },
  {
   "cell_type": "code",
   "execution_count": 5,
   "metadata": {},
   "outputs": [],
   "source": [
    "# 构建模型\n",
    "\n",
    "# 加载序列模型\n",
    "model = tf.keras.models.Sequential()\n",
    "\n",
    "# 添加展平层\n",
    "model.add(tf.keras.layers.Flatten())\n",
    "\n",
    "# 添加一个128的全连接层\n",
    "model.add(tf.keras.layers.Dense(128, activation='relu'))\n",
    "# 在添加为 10 的全连接层，使用 softmax 作为激活函数\n",
    "# softmax 返回总和为1的概率值\n",
    "# num_classes 对应输出结果的数量\n",
    "model.add(tf.keras.layers.Dense(num_classes, activation='softmax'))\n"
   ]
  },
  {
   "cell_type": "code",
   "execution_count": 6,
   "metadata": {},
   "outputs": [
    {
     "name": "stdout",
     "output_type": "stream",
     "text": [
      "Epoch 1/25\n",
      "1875/1875 [==============================] - 3s 2ms/step - loss: 0.6568 - accuracy: 0.8315 - val_loss: 0.3579 - val_accuracy: 0.9032\n",
      "Epoch 2/25\n",
      "1875/1875 [==============================] - 3s 1ms/step - loss: 0.3398 - accuracy: 0.9055 - val_loss: 0.2911 - val_accuracy: 0.9178\n",
      "Epoch 3/25\n",
      "1875/1875 [==============================] - 2s 1ms/step - loss: 0.2899 - accuracy: 0.9194 - val_loss: 0.2585 - val_accuracy: 0.9281\n",
      "Epoch 4/25\n",
      "1875/1875 [==============================] - 2s 1ms/step - loss: 0.2598 - accuracy: 0.9276 - val_loss: 0.2367 - val_accuracy: 0.9325\n",
      "Epoch 5/25\n",
      "1875/1875 [==============================] - 3s 2ms/step - loss: 0.2370 - accuracy: 0.9333 - val_loss: 0.2184 - val_accuracy: 0.9395\n",
      "Epoch 6/25\n",
      "1875/1875 [==============================] - 2s 1ms/step - loss: 0.2185 - accuracy: 0.9392 - val_loss: 0.2040 - val_accuracy: 0.9426\n",
      "Epoch 7/25\n",
      "1875/1875 [==============================] - 2s 1ms/step - loss: 0.2029 - accuracy: 0.9440 - val_loss: 0.1897 - val_accuracy: 0.9466\n",
      "Epoch 8/25\n",
      "1875/1875 [==============================] - 3s 1ms/step - loss: 0.1891 - accuracy: 0.9475 - val_loss: 0.1812 - val_accuracy: 0.9489\n",
      "Epoch 9/25\n",
      "1875/1875 [==============================] - 3s 2ms/step - loss: 0.1777 - accuracy: 0.9507 - val_loss: 0.1701 - val_accuracy: 0.9514\n",
      "Epoch 10/25\n",
      "1875/1875 [==============================] - 3s 1ms/step - loss: 0.1673 - accuracy: 0.9534 - val_loss: 0.1636 - val_accuracy: 0.9531\n",
      "Epoch 11/25\n",
      "1875/1875 [==============================] - 3s 1ms/step - loss: 0.1582 - accuracy: 0.9553 - val_loss: 0.1540 - val_accuracy: 0.9560\n",
      "Epoch 12/25\n",
      "1875/1875 [==============================] - 3s 1ms/step - loss: 0.1498 - accuracy: 0.9586 - val_loss: 0.1471 - val_accuracy: 0.9558\n",
      "Epoch 13/25\n",
      "1875/1875 [==============================] - 2s 1ms/step - loss: 0.1423 - accuracy: 0.9603 - val_loss: 0.1404 - val_accuracy: 0.9589\n",
      "Epoch 14/25\n",
      "1875/1875 [==============================] - 3s 1ms/step - loss: 0.1356 - accuracy: 0.9626 - val_loss: 0.1354 - val_accuracy: 0.9609\n",
      "Epoch 15/25\n",
      "1875/1875 [==============================] - 3s 2ms/step - loss: 0.1295 - accuracy: 0.9643 - val_loss: 0.1305 - val_accuracy: 0.9613\n",
      "Epoch 16/25\n",
      "1875/1875 [==============================] - 3s 2ms/step - loss: 0.1240 - accuracy: 0.9657 - val_loss: 0.1264 - val_accuracy: 0.9619\n",
      "Epoch 17/25\n",
      "1875/1875 [==============================] - 3s 2ms/step - loss: 0.1188 - accuracy: 0.9676 - val_loss: 0.1229 - val_accuracy: 0.9627\n",
      "Epoch 18/25\n",
      "1875/1875 [==============================] - 3s 2ms/step - loss: 0.1140 - accuracy: 0.9688 - val_loss: 0.1185 - val_accuracy: 0.9645\n",
      "Epoch 19/25\n",
      "1875/1875 [==============================] - 3s 2ms/step - loss: 0.1096 - accuracy: 0.9699 - val_loss: 0.1157 - val_accuracy: 0.9658\n",
      "Epoch 20/25\n",
      "1875/1875 [==============================] - 3s 1ms/step - loss: 0.1057 - accuracy: 0.9711 - val_loss: 0.1121 - val_accuracy: 0.9662\n",
      "Epoch 21/25\n",
      "1875/1875 [==============================] - 3s 2ms/step - loss: 0.1020 - accuracy: 0.9723 - val_loss: 0.1102 - val_accuracy: 0.9673\n",
      "Epoch 22/25\n",
      "1875/1875 [==============================] - 3s 1ms/step - loss: 0.0986 - accuracy: 0.9728 - val_loss: 0.1075 - val_accuracy: 0.9675\n",
      "Epoch 23/25\n",
      "1875/1875 [==============================] - 3s 2ms/step - loss: 0.0952 - accuracy: 0.9739 - val_loss: 0.1053 - val_accuracy: 0.9669\n",
      "Epoch 24/25\n",
      "1875/1875 [==============================] - 3s 2ms/step - loss: 0.0923 - accuracy: 0.9747 - val_loss: 0.1023 - val_accuracy: 0.9691\n",
      "Epoch 25/25\n",
      "1875/1875 [==============================] - 3s 2ms/step - loss: 0.0893 - accuracy: 0.9758 - val_loss: 0.1008 - val_accuracy: 0.9698\n"
     ]
    }
   ],
   "source": [
    "# 模型训练\n",
    "\n",
    "\n",
    "# optimizer 优化器，sgd\n",
    "model.compile(optimizer='sgd',\n",
    "              loss='sparse_categorical_crossentropy',\n",
    "              metrics=['accuracy'])\n",
    "# 生成训练，验证文件\n",
    "callbacks = [tf.keras.callbacks.TensorBoard('./keras')]\n",
    "model.fit(x_train, y_train, epochs=25, verbose=1,\n",
    "          validation_data=(x_test, y_test), callbacks=callbacks)"
   ]
  },
  {
   "cell_type": "code",
   "execution_count": null,
   "metadata": {},
   "outputs": [
    {
     "name": "stdout",
     "output_type": "stream",
     "text": [
      "Model: \"sequential\"\n",
      "_________________________________________________________________\n",
      "Layer (type)                 Output Shape              Param #   \n",
      "=================================================================\n",
      "flatten (Flatten)            (None, 784)               0         \n",
      "_________________________________________________________________\n",
      "dense (Dense)                (None, 128)               100480    \n",
      "_________________________________________________________________\n",
      "dense_1 (Dense)              (None, 10)                1290      \n",
      "=================================================================\n",
      "Total params: 101,770\n",
      "Trainable params: 101,770\n",
      "Non-trainable params: 0\n",
      "_________________________________________________________________\n"
     ]
    }
   ],
   "source": [
    "# 查看模型信息\n",
    "\n",
    "model.summary()\n"
   ]
  }
 ],
 "metadata": {
  "interpreter": {
   "hash": "83e29bc4780094a1020ea993be7b4ac962c5dfd5f12c392e72ec0e6eface9c7b"
  },
  "kernelspec": {
   "display_name": "Python 3.6.13 64-bit ('learn-tensorflow': conda)",
   "language": "python",
   "name": "python3"
  },
  "language_info": {
   "codemirror_mode": {
    "name": "ipython",
    "version": 3
   },
   "file_extension": ".py",
   "mimetype": "text/x-python",
   "name": "python",
   "nbconvert_exporter": "python",
   "pygments_lexer": "ipython3",
   "version": "3.6.13"
  },
  "orig_nbformat": 4
 },
 "nbformat": 4,
 "nbformat_minor": 2
}
