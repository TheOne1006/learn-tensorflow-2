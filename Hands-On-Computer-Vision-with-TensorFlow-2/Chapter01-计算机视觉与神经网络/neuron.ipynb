{
 "cells": [
  {
   "cell_type": "markdown",
   "metadata": {},
   "source": [
    "# 神经元\n",
    "\n",
    "\n",
    "模拟一个神经元\n",
    "\n",
    "$$\n",
    "y = \\mathbf{w}  \\mathbf{x} + \\mathbf{b}\n",
    "$$"
   ]
  },
  {
   "cell_type": "code",
   "execution_count": 59,
   "metadata": {},
   "outputs": [],
   "source": [
    "import numpy as np\n",
    "\n",
    "\n",
    "class Neuron(object):\n",
    "    \"\"\"\n",
    "    定义一个人工神经元，处理输入向量并返回相应的激活\n",
    "    参数:\n",
    "        num_inputs (int): 输入信息的 向量长度 或 参数长度\n",
    "        activation_function (callable): 激活函数\n",
    "    属性:\n",
    "        W (ndarray): 每个输入的权重.\n",
    "        b (float): 偏量\n",
    "        activation_function (callable): 激活函数处理输出\n",
    "    \"\"\"\n",
    "\n",
    "    def __init__(self, num_inputs, activation_function):\n",
    "        super().__init__()\n",
    "        np.random.seed(42)\n",
    "\n",
    "        # Randomly initializing the weight vector and the bias value (e.g., using a simplistic\n",
    "        # uniform distribution between -1 and 1):\n",
    "        self.W = np.random.uniform(size=num_inputs, low=-1., high=1.)\n",
    "        self.b = np.random.uniform(size=1, low=-1., high=1.)\n",
    "\n",
    "        self.activation_function = activation_function\n",
    "\n",
    "    def forward(self, x):\n",
    "        \"\"\"\n",
    "        Forward the input signal through the neuron, returning its activation value.\n",
    "        Args:\n",
    "            x (ndarray): The input vector, of shape `(1, num_inputs)`\n",
    "        Returns:\n",
    "            activation (ndarray): The activation value, of shape `(1, layer_size)`.\n",
    "        \"\"\"\n",
    "        z = np.dot(x, self.W) + self.b\n",
    "        return self.activation_function(z)\n"
   ]
  },
  {
   "cell_type": "code",
   "execution_count": 60,
   "metadata": {},
   "outputs": [
    {
     "name": "stdout",
     "output_type": "stream",
     "text": [
      "[[0.37454012 0.95071431 0.73199394]]\n"
     ]
    }
   ],
   "source": [
    "np.random.seed(42)\n",
    "x = np.random.rand(3).reshape(1, 3)\n",
    "print(x)"
   ]
  },
  {
   "cell_type": "code",
   "execution_count": 9,
   "metadata": {},
   "outputs": [],
   "source": [
    "# 定义激活函数\n",
    "\n",
    "def step_function(y): return 0 if y <= 0 else 1"
   ]
  },
  {
   "cell_type": "code",
   "execution_count": 61,
   "metadata": {},
   "outputs": [
    {
     "name": "stdout",
     "output_type": "stream",
     "text": [
      "[-0.25091976  0.90142861  0.46398788]\n",
      "[0.19731697]\n"
     ]
    }
   ],
   "source": [
    "# 实例化神经元对象\n",
    "perceptron = Neuron(num_inputs=x.size, activation_function=step_function)\n",
    "\n",
    "print(perceptron.W)\n",
    "print(perceptron.b)\n"
   ]
  },
  {
   "cell_type": "code",
   "execution_count": 62,
   "metadata": {},
   "outputs": [
    {
     "name": "stdout",
     "output_type": "stream",
     "text": [
      "1\n"
     ]
    }
   ],
   "source": [
    "out = perceptron.forward(x)\n",
    "print(out)\n"
   ]
  }
 ],
 "metadata": {
  "interpreter": {
   "hash": "83e29bc4780094a1020ea993be7b4ac962c5dfd5f12c392e72ec0e6eface9c7b"
  },
  "kernelspec": {
   "display_name": "Python 3.6.13 64-bit ('learn-tensorflow': conda)",
   "language": "python",
   "name": "python3"
  },
  "language_info": {
   "codemirror_mode": {
    "name": "ipython",
    "version": 3
   },
   "file_extension": ".py",
   "mimetype": "text/x-python",
   "name": "python",
   "nbconvert_exporter": "python",
   "pygments_lexer": "ipython3",
   "version": "3.6.13"
  },
  "orig_nbformat": 4
 },
 "nbformat": 4,
 "nbformat_minor": 2
}
